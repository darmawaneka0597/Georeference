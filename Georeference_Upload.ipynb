{
 "cells": [
  {
   "cell_type": "markdown",
   "id": "40454de6",
   "metadata": {},
   "source": [
    "# Geobotica Final Test"
   ]
  },
  {
   "cell_type": "markdown",
   "id": "7c27f4f0",
   "metadata": {},
   "source": [
    "## Candidate Name: Darmawan Eka Wicaksono"
   ]
  },
  {
   "cell_type": "markdown",
   "id": "8d812ac4",
   "metadata": {},
   "source": [
    "### Import Lilbrary"
   ]
  },
  {
   "cell_type": "code",
   "execution_count": 5,
   "id": "20f38e12",
   "metadata": {},
   "outputs": [],
   "source": [
    "import numpy as np\n",
    "import open3d as o3d\n",
    "import copy\n",
    "import matplotlib.pyplot as plt\n",
    "import pandas as pd\n",
    "import pyproj"
   ]
  },
  {
   "cell_type": "markdown",
   "id": "490920a8",
   "metadata": {},
   "source": [
    "### Transforming the Coordinates from WGS'84 to EPSG:26985"
   ]
  },
  {
   "cell_type": "code",
   "execution_count": 14,
   "id": "c190a583",
   "metadata": {
    "scrolled": true
   },
   "outputs": [
    {
     "name": "stdout",
     "output_type": "stream",
     "text": [
      "Converted coordinates (EPSG:26985): X = 432651.9885459344, Y = 182577.81610658672\n",
      "Converted coordinates (EPSG:26985): X = 432650.79482502805, Y = 182576.58993595632\n",
      "Converted coordinates (EPSG:26985): X = 432652.4609910263, Y = 182590.7518961116\n",
      "Converted coordinates (EPSG:26985): X = 432655.1675225842, Y = 182599.44488595138\n",
      "Converted coordinates (EPSG:26985): X = 432657.78771276237, Y = 182608.15972280566\n",
      "Converted coordinates (EPSG:26985): X = 432639.812509916, Y = 182581.5514001262\n",
      "Converted coordinates (EPSG:26985): X = 432642.4929094677, Y = 182590.310888985\n",
      "Converted coordinates (EPSG:26985): X = 432645.1905976736, Y = 182599.05934867507\n",
      "Converted coordinates (EPSG:26985): X = 432621.05537346913, Y = 182581.27382371272\n"
     ]
    }
   ],
   "source": [
    "from pyproj import Transformer\n",
    "\n",
    "# Define transformer from EPSG:4326 to EPSG:26985\n",
    "transformer = Transformer.from_crs(\"EPSG:4326\", \"EPSG:26985\", always_xy=True)\n",
    "\n",
    "def transform_4326_26985(lon,lat):\n",
    "    x, y = transformer.transform(lon, lat)\n",
    "    print(f\"Converted coordinates (EPSG:26985): X = {x}, Y = {y}\")\n",
    "    \n",
    "    return x, y\n",
    "\n",
    "lat = [39.3108058, 39.3107948, 39.3109223, 39.3110005, 39.3110789, 39.3108399, 39.3109187, 39.3109974, 39.3108381]\n",
    "long = [-76.6214001,-76.621414,-76.621394,-76.6213622,-76.6213314,-76.6215411,-76.6215096,-76.6214779,-76.6217586]\n",
    "\n",
    "for i in range(9):\n",
    "    lat_trans = lat[i]\n",
    "    long_trans = long[i]\n",
    "    \n",
    "    x,y = transform_4326_26985(long_trans, lat_trans)\n"
   ]
  }
 ],
 "metadata": {
  "kernelspec": {
   "display_name": "Python 3 (ipykernel)",
   "language": "python",
   "name": "python3"
  },
  "language_info": {
   "codemirror_mode": {
    "name": "ipython",
    "version": 3
   },
   "file_extension": ".py",
   "mimetype": "text/x-python",
   "name": "python",
   "nbconvert_exporter": "python",
   "pygments_lexer": "ipython3",
   "version": "3.9.18"
  }
 },
 "nbformat": 4,
 "nbformat_minor": 5
}
